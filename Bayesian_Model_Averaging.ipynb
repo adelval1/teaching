{
  "nbformat": 4,
  "nbformat_minor": 0,
  "metadata": {
    "colab": {
      "name": "Bayesian Model Averaging.ipynb",
      "provenance": [],
      "collapsed_sections": []
    },
    "kernelspec": {
      "name": "python3",
      "display_name": "Python 3"
    },
    "language_info": {
      "name": "python"
    }
  },
  "cells": [
    {
      "cell_type": "markdown",
      "source": [
        "The computation and exploration of Bayesian posterior distributions are aimed at calibrating parameters within the structure of a given model. It can also happen that our ignorance goes beyond the model parameters and can affect the model structure itself. A common problem in this scenario is how to quantify which model is the most suitable for explaining the experimental data or which hypotheses are not supported anymore.\n",
        "\n",
        "Performing a hypothesis testing study entails the evaluation of the posterior probabilities of each competing model (or hypothesis in our context). This comparison allows us to weigh the relative merit of each model. At first thought, we might consider the most suitable model to be the one that best fits the data. Difficulties quickly arise as we aim at comparing models of different complexity. More complex models involving the definition of more parameters can generally be more expressive and fit very well the data. In this case, the results of hypothesis testing studies have the philosophical principle of Ockham's razor built in them. This principle embodies the fact that the simplest models that can explain comparatively well the data are the preferred ones. \n",
        "\n",
        "We'll continue using the same Python libraries than for the previous exercises."
      ],
      "metadata": {
        "id": "kg-U279JrL1s"
      }
    },
    {
      "cell_type": "code",
      "execution_count": 1,
      "metadata": {
        "id": "cqMzX0KKrI3s"
      },
      "outputs": [],
      "source": [
        "import matplotlib.pyplot as plt \n",
        "import numpy as np \n",
        "from numpy import random\n",
        "import scipy\n",
        "from scipy.optimize import minimize\n",
        "import pymc3 as pm\n",
        "import theano\n",
        "import theano.tensor as tt\n",
        "import seaborn as sns\n",
        "from sklearn.neighbors import KernelDensity"
      ]
    },
    {
      "cell_type": "markdown",
      "source": [
        "We again define a polynomial model that can take different forms depending on the number of coefficients taken into account."
      ],
      "metadata": {
        "id": "EA02c7rnXlaI"
      }
    },
    {
      "cell_type": "code",
      "source": [
        "def polynomial(a,x): # a is a vector with the polynomial coefficients in increasing order of polynomial degree\n",
        "    a_tot = 0.\n",
        "    for i in range(len(a)):\n",
        "      a_tot += a[i]*np.power(x,i)\n",
        "    return a_tot"
      ],
      "metadata": {
        "id": "z_rt9V3JfOp2"
      },
      "execution_count": 2,
      "outputs": []
    },
    {
      "cell_type": "markdown",
      "source": [
        "Generate the noisy observations with a \"true polynomial\"."
      ],
      "metadata": {
        "id": "z8eTfxDFXwXb"
      }
    },
    {
      "cell_type": "code",
      "source": [
        "# Random seed for the observations\n",
        "# np.random.seed(2) # Uncomment if you want to compare different fittings when choosing different noise levels, observations or priors.\n",
        "number_obs = 30 # Number of noisy observations generated\n",
        "number_xs = 1000 # Number of x coordinate points to plot solutions once the fitting is done\n",
        "\n",
        "# Mesh on x\n",
        "x = np.linspace(0,1,number_xs)\n",
        "spacing = int(number_xs/number_obs) # Spacing used to generate the observations at those x locations\n",
        "\n",
        "# Generating the observations\n",
        "x_obs = [x[spacing*i] for i in range(number_obs)] # spacing points on x\n",
        "a_true = [10., -2., 7.5, -3.3, -3.2] # The true polynomial coefficients\n",
        "sigma_obs = 0.1\n",
        "observations = [polynomial(a_true,x[spacing*i])+np.random.normal(0,sigma_obs) for i in range(number_obs)] # The noisy observations"
      ],
      "metadata": {
        "id": "3uyAy8QOgOUa"
      },
      "execution_count": 3,
      "outputs": []
    },
    {
      "cell_type": "markdown",
      "source": [
        "We now perform the inference of the coefficients defined under each model considered. In this case, we prescribe 3 models with 2, 3 and 7 coefficients, respectively. It is recalled that we want to  find the model that best explains the observations. We then plot the marginal posteriors of a common coefficient \"a_1\" which refers to the linear part of the models."
      ],
      "metadata": {
        "id": "3frmAdWXX1EO"
      }
    },
    {
      "cell_type": "code",
      "source": [
        "n_models = 3\n",
        "# number_coeffs = [2,3,5]\n",
        "number_coeffs = [2,3,7]\n",
        "dict1 = dict.fromkeys(['model_'+str(i) for i in range(len(number_coeffs))], 0)\n",
        "\n",
        "for i in range(n_models):\n",
        "\n",
        "  # number_coeffs = 5\n",
        "  names_coeffs = ['a_'+str(j) for j in range(number_coeffs[i])]\n",
        "\n",
        "  with pm.Model():\n",
        "\n",
        "          vect_var = [] # Vector of parameters for which we specify priors\n",
        "          for j in range(len(names_coeffs)):\n",
        "            var_coeffs = pm.Uniform(names_coeffs[j], lower=-5., upper=20.) # Uniform priors with prescribed bounds. Look in the documentation of pyMC3 to find other prior models\n",
        "            vect_var.append(var_coeffs)\n",
        "\n",
        "          # convert coefficients to a tensor vector with theano (required by pyMC3 to work)\n",
        "          theta = tt.as_tensor_variable(vect_var)\n",
        "\n",
        "          # use a normal multivariate distribution as likelihood (noise taken as independet Gausssian distributions)\n",
        "          mu = [polynomial(vect_var,x_obs[k]) for k in range(number_obs-1)] # Vector of mean values which are composed of the evaluations of the proposed model\n",
        "          cov = sigma_obs*np.identity(number_obs-1) # Covariance (noise of the observations)\n",
        "          pm.MvNormal('likelihood', mu=mu, cov=cov, observed=observations[0:number_obs-1])\n",
        "\n",
        "          step = pm.NUTS() # NUTS MCMC sampler. You can also try Metropolis or any other in the pyMC3 library!\n",
        "          trace = pm.sample(10000, tune=1000, discard_tuned_samples=True, step=step, chains=1) # We get 10000 chain samples and discard the first 1000 that serve to tune the chain parameters\n",
        "          dict1['model_'+str(i)] = trace['a_1']\n",
        "          sns.kdeplot(trace['a_1'],shade=True,label=\"number coeffs = \"+str(number_coeffs[i]))\n",
        "plt.legend()\n",
        "        # pm.plot_posterior(trace)\n",
        "      "
      ],
      "metadata": {
        "colab": {
          "base_uri": "https://localhost:8080/",
          "height": 651
        },
        "id": "gIo7Feq1f9er",
        "outputId": "61fa96ec-6f88-4f44-9b93-e76ee5ab3b22"
      },
      "execution_count": 4,
      "outputs": [
        {
          "output_type": "stream",
          "name": "stderr",
          "text": [
            "/usr/local/lib/python3.7/dist-packages/ipykernel_launcher.py:27: FutureWarning: In v4.0, pm.sample will return an `arviz.InferenceData` object instead of a `MultiTrace` by default. You can pass return_inferencedata=True or return_inferencedata=False to be safe and silence this warning.\n",
            "Sequential sampling (1 chains in 1 job)\n",
            "NUTS: [a_1, a_0]\n"
          ]
        },
        {
          "output_type": "display_data",
          "data": {
            "text/html": [
              "\n",
              "<style>\n",
              "    /* Turns off some styling */\n",
              "    progress {\n",
              "        /* gets rid of default border in Firefox and Opera. */\n",
              "        border: none;\n",
              "        /* Needs to be in here for Safari polyfill so background images work as expected. */\n",
              "        background-size: auto;\n",
              "    }\n",
              "    .progress-bar-interrupted, .progress-bar-interrupted::-webkit-progress-bar {\n",
              "        background: #F44336;\n",
              "    }\n",
              "</style>\n"
            ],
            "text/plain": [
              "<IPython.core.display.HTML object>"
            ]
          },
          "metadata": {}
        },
        {
          "output_type": "display_data",
          "data": {
            "text/html": [
              "\n",
              "    <div>\n",
              "      <progress value='11000' class='' max='11000' style='width:300px; height:20px; vertical-align: middle;'></progress>\n",
              "      100.00% [11000/11000 00:19<00:00 Sampling chain 0, 0 divergences]\n",
              "    </div>\n",
              "    "
            ],
            "text/plain": [
              "<IPython.core.display.HTML object>"
            ]
          },
          "metadata": {}
        },
        {
          "output_type": "stream",
          "name": "stderr",
          "text": [
            "Sampling 1 chain for 1_000 tune and 10_000 draw iterations (1_000 + 10_000 draws total) took 20 seconds.\n",
            "Only one chain was sampled, this makes it impossible to run some convergence checks\n",
            "/usr/local/lib/python3.7/dist-packages/ipykernel_launcher.py:27: FutureWarning: In v4.0, pm.sample will return an `arviz.InferenceData` object instead of a `MultiTrace` by default. You can pass return_inferencedata=True or return_inferencedata=False to be safe and silence this warning.\n",
            "Sequential sampling (1 chains in 1 job)\n",
            "NUTS: [a_2, a_1, a_0]\n"
          ]
        },
        {
          "output_type": "display_data",
          "data": {
            "text/html": [
              "\n",
              "<style>\n",
              "    /* Turns off some styling */\n",
              "    progress {\n",
              "        /* gets rid of default border in Firefox and Opera. */\n",
              "        border: none;\n",
              "        /* Needs to be in here for Safari polyfill so background images work as expected. */\n",
              "        background-size: auto;\n",
              "    }\n",
              "    .progress-bar-interrupted, .progress-bar-interrupted::-webkit-progress-bar {\n",
              "        background: #F44336;\n",
              "    }\n",
              "</style>\n"
            ],
            "text/plain": [
              "<IPython.core.display.HTML object>"
            ]
          },
          "metadata": {}
        },
        {
          "output_type": "display_data",
          "data": {
            "text/html": [
              "\n",
              "    <div>\n",
              "      <progress value='11000' class='' max='11000' style='width:300px; height:20px; vertical-align: middle;'></progress>\n",
              "      100.00% [11000/11000 00:55<00:00 Sampling chain 0, 0 divergences]\n",
              "    </div>\n",
              "    "
            ],
            "text/plain": [
              "<IPython.core.display.HTML object>"
            ]
          },
          "metadata": {}
        },
        {
          "output_type": "stream",
          "name": "stderr",
          "text": [
            "Sampling 1 chain for 1_000 tune and 10_000 draw iterations (1_000 + 10_000 draws total) took 56 seconds.\n",
            "Only one chain was sampled, this makes it impossible to run some convergence checks\n",
            "/usr/local/lib/python3.7/dist-packages/ipykernel_launcher.py:27: FutureWarning: In v4.0, pm.sample will return an `arviz.InferenceData` object instead of a `MultiTrace` by default. You can pass return_inferencedata=True or return_inferencedata=False to be safe and silence this warning.\n",
            "Sequential sampling (1 chains in 1 job)\n",
            "NUTS: [a_6, a_5, a_4, a_3, a_2, a_1, a_0]\n"
          ]
        },
        {
          "output_type": "display_data",
          "data": {
            "text/html": [
              "\n",
              "<style>\n",
              "    /* Turns off some styling */\n",
              "    progress {\n",
              "        /* gets rid of default border in Firefox and Opera. */\n",
              "        border: none;\n",
              "        /* Needs to be in here for Safari polyfill so background images work as expected. */\n",
              "        background-size: auto;\n",
              "    }\n",
              "    .progress-bar-interrupted, .progress-bar-interrupted::-webkit-progress-bar {\n",
              "        background: #F44336;\n",
              "    }\n",
              "</style>\n"
            ],
            "text/plain": [
              "<IPython.core.display.HTML object>"
            ]
          },
          "metadata": {}
        },
        {
          "output_type": "display_data",
          "data": {
            "text/html": [
              "\n",
              "    <div>\n",
              "      <progress value='11000' class='' max='11000' style='width:300px; height:20px; vertical-align: middle;'></progress>\n",
              "      100.00% [11000/11000 03:31<00:00 Sampling chain 0, 2,439 divergences]\n",
              "    </div>\n",
              "    "
            ],
            "text/plain": [
              "<IPython.core.display.HTML object>"
            ]
          },
          "metadata": {}
        },
        {
          "output_type": "stream",
          "name": "stderr",
          "text": [
            "Sampling 1 chain for 1_000 tune and 10_000 draw iterations (1_000 + 10_000 draws total) took 211 seconds.\n",
            "There were 2439 divergences after tuning. Increase `target_accept` or reparameterize.\n",
            "The acceptance probability does not match the target. It is 0.685641425271613, but should be close to 0.8. Try to increase the number of tuning steps.\n",
            "Only one chain was sampled, this makes it impossible to run some convergence checks\n"
          ]
        },
        {
          "output_type": "execute_result",
          "data": {
            "text/plain": [
              "<matplotlib.legend.Legend at 0x7f4edf6b7ad0>"
            ]
          },
          "metadata": {},
          "execution_count": 4
        },
        {
          "output_type": "display_data",
          "data": {
            "image/png": "[encoded data removed]",
            "text/plain": [
              "<Figure size 432x288 with 1 Axes>"
            ]
          },
          "metadata": {
            "needs_background": "light"
          }
        }
      ]
    },
    {
      "cell_type": "markdown",
      "source": [
        "We define the Gaussian kernel from which to compute the likelihood of the observations under each considered model."
      ],
      "metadata": {
        "id": "csf0nLKVYRWQ"
      }
    },
    {
      "cell_type": "code",
      "source": [
        "def gaussian_kernel(h,x):\n",
        "    mean = h[0]\n",
        "    std = h[1]\n",
        "    return np.divide(1,std*np.sqrt(2.*np.pi))*np.exp(-0.5*np.divide(x - mean, std)**2)"
      ],
      "metadata": {
        "id": "jYyZiHUIiEpC"
      },
      "execution_count": 5,
      "outputs": []
    },
    {
      "cell_type": "code",
      "source": [
        "def likelihood(a):\n",
        "  lik_value = 1.\n",
        "  for i in range(number_obs):\n",
        "    h = [observations[i],sigma_obs]\n",
        "    lik_value *= gaussian_kernel(h,polynomial(a,x_obs[i]))\n",
        "  return lik_value"
      ],
      "metadata": {
        "id": "xmn0IR0Pm4_p"
      },
      "execution_count": 6,
      "outputs": []
    },
    {
      "cell_type": "markdown",
      "source": [
        "To perform the model assessment we need to compare the posterior distributions for the different models. The comparison is driven through the posterior ratio \n",
        "\n",
        "$\\dfrac{\\mathcal{P}(\\mathcal{M}_{1} \\vert \\boldsymbol y_{\\mathrm{obs}})}{\\mathcal{P}(\\mathcal{M}_{0} \\vert \\boldsymbol y_{\\mathrm{obs}})}$,\n",
        "\n",
        "where $\\mathcal{M}_{0}$ and $\\mathcal{M}_{1}$ are the two competing models we are considering. If the posterior ratio is very much less than one, we would prefer model $\\mathcal{M}_{0}$ and viceversa. If the ratio is of order unity then the data do not provide enough evidence to preferentially support either model. To analyse the effects of the different components on the model posteriors and the ratio, we can decompose it according to the Bayes' rule\n",
        "\n",
        "$\\dfrac{\\mathcal{P}(\\mathcal{M}_{1} \\vert \\boldsymbol y_{\\mathrm{obs}})}{\\mathcal{P}(\\mathcal{M}_{0} \\vert \\boldsymbol y_{\\mathrm{obs}})} = \\dfrac{\\mathcal{P}(\\boldsymbol y_{\\mathrm{obs}} \\vert \\mathcal{M}_{1})}{\\mathcal{P}(\\boldsymbol y_{\\mathrm{obs}} \\vert \\mathcal{M}_{0})} \\times \\dfrac{\\mathcal{P}(\\mathcal{M}_{1})}{\\mathcal{P}(\\mathcal{M}_{0})}$,\n",
        "\n",
        "where the posterior ratio is expressed as the product of the ratio of the marginalized likelihoods and priors of the different models. The marginalized likelihoods of the different models can also be expressed as the marginalization over each model's parameters prior as\n",
        "\n",
        "$\\mathcal{P}(\\boldsymbol y_{\\mathrm{obs}} \\vert \\mathcal{M}_{i}) = \\int_{\\mathcal{X}} \\mathcal{P}(\\boldsymbol y_{\\mathrm{obs}} \\vert \\boldsymbol x_{i}, \\mathcal{M}_{i})\\mathcal{P}(\\boldsymbol x_{i} \\vert \\mathcal{M}_{i})\\mathrm{d}\\boldsymbol x_{i}, \\ \\ \\forall i \\in \\{0, 1\\}$,\n",
        "\n",
        "where $\\boldsymbol x_{i}$ is the vector of model parameters of each model and $\\mathcal{P}(\\boldsymbol x_{i} \\vert \\mathcal{M}_{i})$ is the prior for $\\boldsymbol x_{i}$ under model $\\mathcal{M}_{i}$. $\\mathcal{P}(\\boldsymbol y_{\\mathrm{obs}} \\vert \\mathcal{M}_{i})$ is also known as the evidence of the data under model $\\mathcal{M}_{i}$ and it is the factor in the Bayes' rule denominator which is often disregarded as a proportionality constant in parameter inference. The evidence ratio expresses the merit of each model based on two distinct aspects: how well the data is fitted, through the presence of the likelihood $\\mathcal{P}(\\boldsymbol y_{\\mathrm{obs}} \\vert \\boldsymbol x_{i}, \\mathcal{M}_{i})$, and how much prior space is given to each model $\\mathcal{P}(\\boldsymbol x_{i} \\vert \\mathcal{M}_{i})$. Each evidence is the result of a likelihood average that decreases as the prior space increases, penalizing complex models. The ratio of the evidences is also known as the Bayes factor for $\\mathcal{M}_{1}$ versus $\\mathcal{M}_{0}$ "
      ],
      "metadata": {
        "id": "mvBER85oXjl8"
      }
    },
    {
      "cell_type": "code",
      "source": [
        "n_samples = 500000\n",
        "evidence=[0.]*len(number_coeffs)\n",
        "sum_evidence=0.\n",
        "\n",
        "for j in range(len(number_coeffs)):\n",
        "  for i in range(n_samples):\n",
        "    a = (np.random.random(number_coeffs[j])*25.)-5.\n",
        "    evidence[j] += likelihood(a)\n",
        "  evidence[j] = evidence[j]/n_samples\n",
        "\n",
        "  sum_evidence += evidence[j] \n",
        "\n",
        "print(evidence)"
      ],
      "metadata": {
        "colab": {
          "base_uri": "https://localhost:8080/"
        },
        "id": "pTjNSkqelAeE",
        "outputId": "b451d4c5-b9be-4b72-fc46-23cb345936b8"
      },
      "execution_count": 11,
      "outputs": [
        {
          "output_type": "stream",
          "name": "stdout",
          "text": [
            "[5.377626044276626e-33, 1.3640873081732162e-17, 7.535076889262991e-12]\n"
          ]
        }
      ]
    },
    {
      "cell_type": "markdown",
      "source": [
        "We also can compute Bayes Factors comparing different models."
      ],
      "metadata": {
        "id": "mYqepJFaYfvo"
      }
    },
    {
      "cell_type": "code",
      "source": [
        "BF_23 = np.log10(evidence[1]) - np.log10(evidence[0])\n",
        "BF_27 = np.log10(evidence[2]) - np.log10(evidence[0])\n",
        "BF_37 = np.log10(evidence[2]) - np.log10(evidence[1])\n",
        "print('BF23 = ',BF_23)\n",
        "print('BF27 = ',BF_27)"
      ],
      "metadata": {
        "colab": {
          "base_uri": "https://localhost:8080/"
        },
        "id": "a0L5v6k7OJYl",
        "outputId": "588723c0-7819-4008-b0f0-843c26f4d901"
      },
      "execution_count": 12,
      "outputs": [
        {
          "output_type": "stream",
          "name": "stdout",
          "text": [
            "BF23 =  15.404251569699888\n",
            "BF27 =  21.146497089837602\n"
          ]
        }
      ]
    },
    {
      "cell_type": "markdown",
      "source": [
        "Once the Bayesian evidence is computed, we need to weight the resulting kernel densities of the marginal posteriors to produce an averaged kernel."
      ],
      "metadata": {
        "id": "tWTjkDNnYi17"
      }
    },
    {
      "cell_type": "code",
      "source": [
        "weights = [0.]*len(trace['a_1'])\n",
        "maxs = [0.]*len(number_coeffs)\n",
        "X_plot_1 = np.linspace(-6.,6.,10000)\n",
        "X_plot = X_plot_1\n",
        "X_plot = [[X_plot_1[i]] for i in range(len(X_plot))]\n",
        "\n",
        "for j in range(len(number_coeffs)):\n",
        "  X = []\n",
        "  for i in range(len(trace['a_1'])):\n",
        "    X.append([dict1['model_'+str(j)][i]])\n",
        "  kde = KernelDensity(kernel='gaussian', bandwidth=0.2).fit(X)\n",
        "  samples_kde = np.exp(kde.score_samples(X_plot))\n",
        "  maxs[j] = np.max(samples_kde)\n",
        "  plt.plot(X_plot,samples_kde,label='model_'+str(j))\n",
        "\n",
        "  for k in range(len(weights)):\n",
        "    weights[k] += np.divide(samples_kde[k]*evidence[j],sum_evidence)\n",
        "\n",
        "plt.plot(X_plot_1,weights,linestyle='--',color='red')\n",
        "plt.ylim(0.,np.max(maxs)+0.2)\n",
        "plt.legend()\n",
        "plt.show()"
      ],
      "metadata": {
        "colab": {
          "base_uri": "https://localhost:8080/",
          "height": 265
        },
        "id": "Ph6sl9-p3orV",
        "outputId": "7a39232e-8cd9-4717-aee2-43ba9236284a"
      },
      "execution_count": 13,
      "outputs": [
        {
          "output_type": "display_data",
          "data": {
            "image/png": "[encoded data removed]",
            "text/plain": [
              "<Figure size 432x288 with 1 Axes>"
            ]
          },
          "metadata": {
            "needs_background": "light"
          }
        }
      ]
    },
    {
      "cell_type": "markdown",
      "source": [
        "Finally, to add more insight to the problem, we can compute the posterior predictives under each model and relate that to the Bayes Factors and evidence obtained for each model."
      ],
      "metadata": {
        "id": "GoJct3QPYxAF"
      }
    },
    {
      "cell_type": "code",
      "source": [
        "colors=['red','blue','green']\n",
        "labels = ['model 1', 'model 2', 'model 3']\n",
        "\n",
        "## Posterior statistics ##\n",
        "for i in range(len(number_coeffs)):\n",
        "   names_coeffs = ['a_'+str(i) for i in range(number_coeffs[i])]\n",
        "   y_ci_plus = []\n",
        "   y_ci_minus = []\n",
        "   for l in range(len(x)):\n",
        "       y_posterior = []\n",
        "       for p in range(1000):\n",
        "           coeffs = [trace[names_coeffs[m]][p] for m in range(number_coeffs[i])]\n",
        "           y_posterior.append(polynomial(coeffs,x[l]))\n",
        "       y_ci_plus.append(np.percentile(y_posterior,2.5))\n",
        "       y_ci_minus.append(np.percentile(y_posterior,97.5))\n",
        "\n",
        "   plt.plot(x,y_ci_plus,linestyle='--',color=colors[i])\n",
        "   plt.plot(x,y_ci_minus,linestyle='--',color=colors[i])\n",
        "   plt.fill_between(x,y_ci_plus,y_ci_minus,color=colors[i],alpha=0.2,label=labels[i])\n",
        "\n",
        "plt.errorbar(x_obs,observations,2*sigma_obs,marker='o',color='black')\n",
        "plt.plot(x,polynomial(a_true, x),color='black',linestyle = 'dashdot', label='True model')\n",
        "plt.legend(loc='upper left')\n",
        "plt.ylim(8.75,10.75)\n",
        "plt.xlim(0.,1.)\n",
        "plt.xlabel('X')\n",
        "plt.ylabel('Y')"
      ],
      "metadata": {
        "id": "4heyLevnsLKX",
        "colab": {
          "base_uri": "https://localhost:8080/",
          "height": 300
        },
        "outputId": "bfb96136-3a50-4cfb-dac5-1f3e22fabfe7"
      },
      "execution_count": 20,
      "outputs": [
        {
          "output_type": "execute_result",
          "data": {
            "text/plain": [
              "Text(0, 0.5, 'Y')"
            ]
          },
          "metadata": {},
          "execution_count": 20
        },
        {
          "output_type": "display_data",
          "data": {
            "image/png": "[encoded data removed]",
            "text/plain": [
              "<Figure size 432x288 with 1 Axes>"
            ]
          },
          "metadata": {
            "needs_background": "light"
          }
        }
      ]
    },
    {
      "cell_type": "code",
      "source": [
        ""
      ],
      "metadata": {
        "id": "0fQ8fIcFSkq3"
      },
      "execution_count": null,
      "outputs": []
    }
  ]
}